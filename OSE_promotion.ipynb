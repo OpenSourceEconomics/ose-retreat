{
 "cells": [
  {
   "cell_type": "markdown",
   "metadata": {
    "slideshow": {
     "slide_type": "slide"
    }
   },
   "source": [
    "# Open Source Economics\n",
    "Learn, build, share, repeat.\n"
   ]
  },
  {
   "cell_type": "markdown",
   "metadata": {
    "slideshow": {
     "slide_type": "slide"
    }
   },
   "source": [
    "# Motivation\n",
    "\n",
    "- promote reproducabillity as a desirable concept in general\n",
    "\n",
    "- support students in building desirable skills \n",
    "\n",
    "- develop a deeper understanding of econometric methods by simulation and coding\n",
    "\n",
    "- expand the set of possible economic questions to explore"
   ]
  },
  {
   "cell_type": "markdown",
   "metadata": {
    "slideshow": {
     "slide_type": "slide"
    }
   },
   "source": [
    "# Negative Examples\n",
    "\n",
    "\n",
    "- mistakes can make it impossible to reproduce your results \n",
    "\n",
    "- convergence problems \n",
    "\n",
    "- complicated implementation of models makes it almost impossible to adjust your code if its necessary "
   ]
  },
  {
   "cell_type": "markdown",
   "metadata": {
    "slideshow": {
     "slide_type": "slide"
    }
   },
   "source": [
    "# What is Open Source Economics\n",
    "\n",
    "- platform for interexchange and discussion with other students and academic researchers\n",
    "\n",
    "- strong connection to several lectures at the University of Bonn (EPP, Microeconometrics,...)\n",
    "\n",
    "- provide open-source packages that can be used for publications\n",
    "\n",
    "- cooperation with other institutions (DIW Berlin)\n"
   ]
  },
  {
   "cell_type": "markdown",
   "metadata": {
    "slideshow": {
     "slide_type": "slide"
    }
   },
   "source": [
    "# Online Presence\n",
    "\n",
    "- [GitHub Organization](https://github.com/OpenSourceEconomics)\n",
    "\n",
    "- [Slack Channel](https://join.slack.com/t/oseconomics/shared_invite/enQtNTg3NjA0ODIwNzM3LWYzZTQ2OWJiMDdhMzdlZDVhZmZkZjZiMDU3YmM3MDBmYWE5OGY3M2UzZDY0YTc4NzM3YzA5ZGMzODUyOTczNDc)\n",
    "\n",
    "- [Additional Material](https://github.com/OpenSourceEconomics/hackathon_material)"
   ]
  },
  {
   "cell_type": "markdown",
   "metadata": {
    "slideshow": {
     "slide_type": "slide"
    }
   },
   "source": [
    "# How can you get involved\n",
    "\n",
    "- Hackathon\n",
    "    \n",
    "    - focus on programming related issues, numerical optimization,...\n",
    "    \n",
    "    - every third Tuesday of a month at 6pm at the Institute for Applied Microeconomics\n",
    "    \n",
    " \n"
   ]
  }
 ],
 "metadata": {
  "celltoolbar": "Slideshow",
  "kernelspec": {
   "display_name": "Python [conda env:student_project]",
   "language": "python",
   "name": "conda-env-student_project-py"
  },
  "language_info": {
   "codemirror_mode": {
    "name": "ipython",
    "version": 3
   },
   "file_extension": ".py",
   "mimetype": "text/x-python",
   "name": "python",
   "nbconvert_exporter": "python",
   "pygments_lexer": "ipython3",
   "version": "3.7.3"
  }
 },
 "nbformat": 4,
 "nbformat_minor": 2
}
